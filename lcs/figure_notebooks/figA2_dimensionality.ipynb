{
 "cells": [
  {
   "cell_type": "code",
   "execution_count": 1,
   "metadata": {},
   "outputs": [],
   "source": [
    "%matplotlib widget"
   ]
  },
  {
   "cell_type": "code",
   "execution_count": null,
   "metadata": {},
   "outputs": [],
   "source": [
    "import sys\n",
    "sys.path.append('../..')\n",
    "from lcs import SRC_ROOT"
   ]
  },
  {
   "cell_type": "code",
   "execution_count": 2,
   "metadata": {},
   "outputs": [],
   "source": [
    "import os\n",
    "os.environ['ENABLE_PJRT_COMPATIBILITY'] = '1'\n",
    "import jax\n",
    "jax.config.update('jax_platform_name', 'cpu')\n",
    "from lcs.configs import *\n",
    "from lcs.joint_learning import *\n",
    "import numpy as np\n",
    "from tqdm import tqdm\n",
    "import matplotlib.pyplot as plt\n",
    "from lcs.configs import *\n",
    "from scipy.optimize import curve_fit\n",
    "from lcs.plotting_utils import make_cosyne_fig\n",
    "from matplotlib.ticker import AutoMinorLocator, FixedLocator, MultipleLocator\n",
    "from lcs.plotting_utils import fill_between\n",
    "from lcs.utils import get_adapt\n",
    "import matplotlib.pyplot as plt\n",
    "from lcs import TEXTWIDTH"
   ]
  },
  {
   "cell_type": "code",
   "execution_count": null,
   "metadata": {},
   "outputs": [],
   "source": [
    "logger = logging.getLogger('lcs')\n",
    "logger.setLevel(logging.INFO)\n",
    "\n",
    "# some minor overrides\n",
    "in_size = 30\n",
    "out_size = 30\n",
    "overrides = dict(num_seeds=1, input_size=in_size, output_size=out_size, c_tau=.1, W_tau=.5, t_tot=100,\n",
    "                regularization_strength=0.1,  \n",
    "                log_aux=False)\n",
    "cfg_dict = dict()"
   ]
  },
  {
   "cell_type": "code",
   "execution_count": 4,
   "metadata": {},
   "outputs": [
    {
     "name": "stdout",
     "output_type": "stream",
     "text": [
      "[[1. 1. 0. 0. 0. 0. 0. 0. 0. 0. 0. 0. 0. 0. 0. 0. 0. 0. 0. 0. 0. 0. 0. 0.\n",
      "  0. 0. 0. 0. 0. 0.]\n",
      " [1. 1. 0. 0. 0. 0. 0. 0. 0. 0. 0. 0. 0. 0. 0. 0. 0. 0. 0. 0. 0. 0. 0. 0.\n",
      "  0. 0. 0. 0. 0. 0.]]\n",
      "(2, 30, 30)\n",
      "[[1. 1. 1. 1. 1. 0. 0. 0. 0. 0. 0. 0. 0. 0. 0. 0. 0. 0. 0. 0. 0. 0. 0. 0.\n",
      "  0. 0. 0. 0. 0. 0.]\n",
      " [1. 1. 1. 1. 1. 0. 0. 0. 0. 0. 0. 0. 0. 0. 0. 0. 0. 0. 0. 0. 0. 0. 0. 0.\n",
      "  0. 0. 0. 0. 0. 0.]]\n",
      "(2, 30, 30)\n",
      "[[1. 1. 1. 1. 1. 1. 1. 1. 0. 0. 0. 0. 0. 0. 0. 0. 0. 0. 0. 0. 0. 0. 0. 0.\n",
      "  0. 0. 0. 0. 0. 0.]\n",
      " [1. 1. 1. 1. 1. 1. 1. 1. 0. 0. 0. 0. 0. 0. 0. 0. 0. 0. 0. 0. 0. 0. 0. 0.\n",
      "  0. 0. 0. 0. 0. 0.]]\n",
      "(2, 30, 30)\n",
      "[[1. 1. 1. 1. 1. 1. 1. 1. 1. 1. 1. 0. 0. 0. 0. 0. 0. 0. 0. 0. 0. 0. 0. 0.\n",
      "  0. 0. 0. 0. 0. 0.]\n",
      " [1. 1. 1. 1. 1. 1. 1. 1. 1. 1. 1. 0. 0. 0. 0. 0. 0. 0. 0. 0. 0. 0. 0. 0.\n",
      "  0. 0. 0. 0. 0. 0.]]\n",
      "(2, 30, 30)\n",
      "[[1. 1. 1. 1. 1. 1. 1. 1. 1. 1. 1. 1. 1. 1. 0. 0. 0. 0. 0. 0. 0. 0. 0. 0.\n",
      "  0. 0. 0. 0. 0. 0.]\n",
      " [1. 1. 1. 1. 1. 1. 1. 1. 1. 1. 1. 1. 1. 1. 0. 0. 0. 0. 0. 0. 0. 0. 0. 0.\n",
      "  0. 0. 0. 0. 0. 0.]]\n",
      "(2, 30, 30)\n",
      "[[1. 1. 1. 1. 1. 1. 1. 1. 1. 1. 1. 1. 1. 1. 1. 0. 0. 0. 0. 0. 0. 0. 0. 0.\n",
      "  0. 0. 0. 0. 0. 0.]\n",
      " [1. 1. 1. 1. 1. 1. 1. 1. 1. 1. 1. 1. 1. 1. 1. 0. 0. 0. 0. 0. 0. 0. 0. 0.\n",
      "  0. 0. 0. 0. 0. 0.]]\n",
      "(2, 30, 30)\n",
      "[[1. 1. 1. 1. 1. 1. 1. 1. 1. 1. 1. 1. 1. 1. 1. 0. 0. 0. 0. 0. 0. 0. 0. 0.\n",
      "  0. 0. 0. 0. 0. 0.]\n",
      " [1. 1. 1. 1. 1. 1. 1. 1. 1. 1. 1. 1. 1. 1. 1. 0. 0. 0. 0. 0. 0. 0. 0. 0.\n",
      "  0. 0. 0. 0. 0. 0.]]\n",
      "(2, 30, 30)\n",
      "[[1. 1. 1. 1. 1. 1. 1. 1. 1. 1. 1. 1. 1. 1. 1. 0. 0. 0. 0. 0. 0. 0. 0. 0.\n",
      "  0. 0. 0. 0. 0. 0.]\n",
      " [1. 1. 1. 1. 1. 1. 1. 1. 1. 1. 1. 1. 1. 1. 1. 0. 0. 0. 0. 0. 0. 0. 0. 0.\n",
      "  0. 0. 0. 0. 0. 0.]]\n",
      "(2, 30, 30)\n",
      "[[1. 1. 1. 1. 1. 1. 1. 1. 1. 1. 1. 1. 1. 1. 1. 0. 0. 0. 0. 0. 0. 0. 0. 0.\n",
      "  0. 0. 0. 0. 0. 0.]\n",
      " [1. 1. 1. 1. 1. 1. 1. 1. 1. 1. 1. 1. 1. 1. 1. 0. 0. 0. 0. 0. 0. 0. 0. 0.\n",
      "  0. 0. 0. 0. 0. 0.]]\n",
      "(2, 30, 30)\n",
      "[[1. 1. 1. 1. 1. 1. 1. 1. 1. 1. 1. 1. 1. 1. 1. 0. 0. 0. 0. 0. 0. 0. 0. 0.\n",
      "  0. 0. 0. 0. 0. 0.]\n",
      " [1. 1. 1. 1. 1. 1. 1. 1. 1. 1. 1. 1. 1. 1. 1. 0. 0. 0. 0. 0. 0. 0. 0. 0.\n",
      "  0. 0. 0. 0. 0. 0.]]\n",
      "(2, 30, 30)\n"
     ]
    }
   ],
   "source": [
    "d_teachers = np.linspace(2, min(in_size, out_size), 10).astype(int)\n",
    "\n",
    "# diable logger\n",
    "logger = logging.getLogger('lcs')\n",
    "logger.setLevel(logging.WARNING)\n",
    "\n",
    "W_teachers = []\n",
    "for d in d_teachers:\n",
    "\n",
    "    W, (U, S, VT) = generate_teachers(in_size, out_size, 2, mode='svd', return_svd=True, svd_kwargs=dict(scale=1.\n",
    "                                                                                                        #  /np.sqrt(in_size)\n",
    "                                                                                                         ))\n",
    "    S = np.array(S)\n",
    "    S[..., d:] = 0.\n",
    "\n",
    "    W_teachers_ = np.array([U[p] @ np.diag(S[p, ...]) @ VT[p] for p in range(U.shape[0])])\n",
    "\n",
    "    U_, S_, VT_ = np.linalg.svd(W_teachers_, full_matrices=False)\n",
    "    W_teachers.append(W_teachers_)"
   ]
  },
  {
   "cell_type": "code",
   "execution_count": 5,
   "metadata": {},
   "outputs": [
    {
     "name": "stdout",
     "output_type": "stream",
     "text": [
      "True\n"
     ]
    },
    {
     "name": "stderr",
     "output_type": "stream",
     "text": [
      "  0%|          | 0/10 [00:00<?, ?it/s]/Users/jan/learning-context-sensing/.venv/lib/python3.10/site-packages/jax/_src/numpy/lax_numpy.py:6217: UserWarning: Explicitly requested dtype float64 requested in asarray is not available, and will be truncated to dtype float32. To enable more dtypes, set the jax_enable_x64 configuration option or the JAX_ENABLE_X64 shell environment variable. See https://github.com/jax-ml/jax#current-gotchas for more.\n",
      "  start = asarray(start, dtype=computation_dtype)\n",
      "/Users/jan/learning-context-sensing/.venv/lib/python3.10/site-packages/jax/_src/numpy/lax_numpy.py:6218: UserWarning: Explicitly requested dtype float64 requested in asarray is not available, and will be truncated to dtype float32. To enable more dtypes, set the jax_enable_x64 configuration option or the JAX_ENABLE_X64 shell environment variable. See https://github.com/jax-ml/jax#current-gotchas for more.\n",
      "  stop = asarray(stop, dtype=computation_dtype)\n",
      "/Users/jan/learning-context-sensing/.venv/lib/python3.10/site-packages/jax/_src/numpy/lax_numpy.py:6227: UserWarning: Explicitly requested dtype float64 requested in array is not available, and will be truncated to dtype float32. To enable more dtypes, set the jax_enable_x64 configuration option or the JAX_ENABLE_X64 shell environment variable. See https://github.com/jax-ml/jax#current-gotchas for more.\n",
      "  delta: Array = lax.convert_element_type(stop - start, computation_dtype) / array(div, dtype=computation_dtype)\n",
      "/Users/jan/learning-context-sensing/.venv/lib/python3.10/site-packages/jax/_src/numpy/lax_numpy.py:6233: UserWarning: Explicitly requested dtype float64 requested in array is not available, and will be truncated to dtype float32. To enable more dtypes, set the jax_enable_x64 configuration option or the JAX_ENABLE_X64 shell environment variable. See https://github.com/jax-ml/jax#current-gotchas for more.\n",
      "  step = reshape(lax.iota(real_dtype, div), iota_shape) / array(div, real_dtype)\n",
      "/Users/jan/learning-context-sensing/.venv/lib/python3.10/site-packages/jax/_src/numpy/array_methods.py:118: UserWarning: Explicitly requested dtype float64 requested in astype is not available, and will be truncated to dtype float32. To enable more dtypes, set the jax_enable_x64 configuration option or the JAX_ENABLE_X64 shell environment variable. See https://github.com/jax-ml/jax#current-gotchas for more.\n",
      "  return lax_numpy.astype(self, dtype, copy=copy, device=device)\n",
      " 20%|██        | 2/10 [00:44<02:56, 22.04s/it]"
     ]
    },
    {
     "name": "stdout",
     "output_type": "stream",
     "text": [
      "[WARNING] [2024-10-25 23:10:14,206] in lcs.joint_learning: grad norm c1 x lr is too large at 0.1299075037240982, not operating in Gradient Flow regime. Consider reducing dt=0.001000. \n"
     ]
    },
    {
     "name": "stderr",
     "output_type": "stream",
     "text": [
      " 30%|███       | 3/10 [01:06<02:36, 22.34s/it]"
     ]
    },
    {
     "name": "stdout",
     "output_type": "stream",
     "text": [
      "[WARNING] [2024-10-25 23:10:37,858] in lcs.joint_learning: grad norm c1 x lr is too large at 0.1848495453596115, not operating in Gradient Flow regime. Consider reducing dt=0.001000. \n"
     ]
    },
    {
     "name": "stderr",
     "output_type": "stream",
     "text": [
      " 40%|████      | 4/10 [01:30<02:17, 22.93s/it]"
     ]
    },
    {
     "name": "stdout",
     "output_type": "stream",
     "text": [
      "[WARNING] [2024-10-25 23:11:01,968] in lcs.joint_learning: grad norm c1 x lr is too large at 0.2932703495025635, not operating in Gradient Flow regime. Consider reducing dt=0.001000. \n"
     ]
    },
    {
     "name": "stderr",
     "output_type": "stream",
     "text": [
      " 50%|█████     | 5/10 [01:54<01:57, 23.41s/it]"
     ]
    },
    {
     "name": "stdout",
     "output_type": "stream",
     "text": [
      "[WARNING] [2024-10-25 23:11:25,948] in lcs.joint_learning: grad norm c1 x lr is too large at 0.31088361144065857, not operating in Gradient Flow regime. Consider reducing dt=0.001000. \n"
     ]
    },
    {
     "name": "stderr",
     "output_type": "stream",
     "text": [
      " 60%|██████    | 6/10 [02:19<01:34, 23.68s/it]"
     ]
    },
    {
     "name": "stdout",
     "output_type": "stream",
     "text": [
      "[WARNING] [2024-10-25 23:11:48,676] in lcs.joint_learning: grad norm c1 x lr is too large at 0.31088361144065857, not operating in Gradient Flow regime. Consider reducing dt=0.001000. \n"
     ]
    },
    {
     "name": "stderr",
     "output_type": "stream",
     "text": [
      " 70%|███████   | 7/10 [02:42<01:10, 23.51s/it]"
     ]
    },
    {
     "name": "stdout",
     "output_type": "stream",
     "text": [
      "[WARNING] [2024-10-25 23:12:13,071] in lcs.joint_learning: grad norm c1 x lr is too large at 0.31088361144065857, not operating in Gradient Flow regime. Consider reducing dt=0.001000. \n"
     ]
    },
    {
     "name": "stderr",
     "output_type": "stream",
     "text": [
      " 80%|████████  | 8/10 [03:06<00:47, 23.72s/it]"
     ]
    },
    {
     "name": "stdout",
     "output_type": "stream",
     "text": [
      "[WARNING] [2024-10-25 23:12:37,936] in lcs.joint_learning: grad norm c1 x lr is too large at 0.31088361144065857, not operating in Gradient Flow regime. Consider reducing dt=0.001000. \n"
     ]
    },
    {
     "name": "stderr",
     "output_type": "stream",
     "text": [
      " 90%|█████████ | 9/10 [03:31<00:24, 24.16s/it]"
     ]
    },
    {
     "name": "stdout",
     "output_type": "stream",
     "text": [
      "[WARNING] [2024-10-25 23:13:03,853] in lcs.joint_learning: grad norm c1 x lr is too large at 0.31088361144065857, not operating in Gradient Flow regime. Consider reducing dt=0.001000. \n"
     ]
    },
    {
     "name": "stderr",
     "output_type": "stream",
     "text": [
      "100%|██████████| 10/10 [03:57<00:00, 23.72s/it]\n"
     ]
    }
   ],
   "source": [
    "cfgs = [Config(**dict(cfg_full_ | overrides, W_teachers=W_teachers_)) for W_teachers_ in W_teachers]\n",
    "tapes = [run_config(cfg) for cfg in tqdm(cfgs)]\n",
    "\n",
    "# re-enable logger\n",
    "logger = logging.getLogger('lcs')"
   ]
  },
  {
   "cell_type": "code",
   "execution_count": 9,
   "metadata": {
    "scrolled": true
   },
   "outputs": [
    {
     "name": "stdout",
     "output_type": "stream",
     "text": [
      "0.001\n",
      "22.809921\n",
      "22.809921\n",
      "22.809921\n",
      "22.809921\n",
      "22.809921\n",
      "22.809921\n",
      "22.809921\n",
      "22.809921\n",
      "22.809921\n",
      "22.809921\n",
      "22.809921\n",
      "0.001\n",
      "53.86266\n",
      "53.86266\n",
      "53.86266\n",
      "53.86266\n",
      "53.86266\n",
      "53.86266\n",
      "53.86266\n",
      "53.86266\n",
      "53.86266\n",
      "53.86266\n",
      "53.86266\n",
      "0.001\n",
      "94.15441\n",
      "94.15441\n",
      "94.15441\n",
      "94.15441\n",
      "94.15441\n",
      "94.15441\n",
      "94.15441\n",
      "94.15441\n",
      "94.15441\n",
      "94.15441\n",
      "94.15441\n",
      "0.001\n",
      "131.14035\n",
      "131.14035\n",
      "131.14035\n",
      "131.14035\n",
      "131.14035\n",
      "131.14035\n",
      "131.14035\n",
      "131.14035\n",
      "131.14035\n",
      "131.14035\n",
      "131.14035\n",
      "0.001\n",
      "233.7962\n",
      "233.7962\n",
      "233.7962\n",
      "233.7962\n",
      "233.7962\n",
      "233.7962\n",
      "233.7962\n",
      "233.7962\n",
      "233.7962\n",
      "233.7962\n",
      "233.7962\n",
      "0.001\n",
      "245.5917\n",
      "245.5917\n",
      "245.5917\n",
      "245.5917\n",
      "245.5917\n",
      "245.5917\n",
      "245.5917\n",
      "245.5917\n",
      "245.5917\n",
      "245.5917\n",
      "245.5917\n",
      "0.001\n",
      "245.5917\n",
      "245.5917\n",
      "245.5917\n",
      "245.5917\n",
      "245.5917\n",
      "245.5917\n",
      "245.5917\n",
      "245.5917\n",
      "245.5917\n",
      "245.5917\n",
      "245.5917\n",
      "0.001\n",
      "245.5917\n",
      "245.5917\n",
      "245.5917\n",
      "245.5917\n",
      "245.5917\n",
      "245.5917\n",
      "245.5917\n",
      "245.5917\n",
      "245.5917\n",
      "245.5917\n",
      "245.5917\n",
      "0.001\n",
      "245.5917\n",
      "245.5917\n",
      "245.5917\n",
      "245.5917\n",
      "245.5917\n",
      "245.5917\n",
      "245.5917\n",
      "245.5917\n",
      "245.5917\n",
      "245.5917\n",
      "245.5917\n",
      "0.001\n",
      "245.5917\n",
      "245.5917\n",
      "245.5917\n",
      "245.5917\n",
      "245.5917\n",
      "245.5917\n",
      "245.5917\n",
      "245.5917\n",
      "245.5917\n",
      "245.5917\n",
      "245.5917\n",
      "10.0\n"
     ]
    },
    {
     "data": {
      "image/png": "[encoded data removed]",
      "text/plain": [
       "<Figure size 275x275 with 1 Axes>"
      ]
     },
     "execution_count": 9,
     "metadata": {},
     "output_type": "execute_result"
    }
   ],
   "source": [
    "fig, ax = plt.subplots(1, 1, figsize=(TEXTWIDTH / 2, TEXTWIDTH / 2), layout='constrained')\n",
    "# show axes spines\n",
    "\n",
    "ax.spines['top'].set_visible(True)\n",
    "ax.spines['right'].set_visible(True)\n",
    "lb = len(tapes[0]['cos_sim1']) // 8\n",
    "\n",
    "@partial(np.vectorize, signature='(t),(t),(t, p),(),()->(n),(n),(n)')\n",
    "def get_first_crossing_times(loss, c_gt1, c, cfg, thsd=0.1):\n",
    "    ti_switches = np.where(np.abs(np.gradient(c_gt1,  cfg.dt_tape)) > 0.2)[0] + 1\n",
    "\n",
    "    ti_switches = ti_switches[int(len(ti_switches) * 9/10):]  # only at convergence\n",
    "\n",
    "    losses_blocks = np.split(loss, ti_switches)\n",
    "    losses_blocks = [loss_block for loss_block in losses_blocks if len(loss_block) > 2]\n",
    "\n",
    "\n",
    "    c_blocks = np.split(c, ti_switches)\n",
    "    c_blocks = [c for c_block in c_blocks if len(c_block) > 2]\n",
    "\n",
    "    blocks = np.arange(1, len(losses_blocks)+1)\n",
    "\n",
    "    loss_grads = []\n",
    "    for loss_block in losses_blocks:\n",
    "        loss_grad = np.abs(np.gradient(loss_block, cfg.dt_tape)).max()\n",
    "        loss_grads.append(loss_grad)\n",
    "\n",
    "    c_grads = []\n",
    "    for c_block in c_blocks:\n",
    "        c_grad = np.abs(np.gradient(c_block, cfg.dt_tape, axis=0)).max()\n",
    "        c_grads.append(c_grad)\n",
    "\n",
    "    loss_grads = np.array(loss_grads)\n",
    "    c_grads = np.array(c_grads)\n",
    "    return blocks, loss_grads, c_grads\n",
    "\n",
    "get_first_crossing_times_ = partial(get_first_crossing_times, thsd=.2)\n",
    "\n",
    "loss_grads = []\n",
    "c_grads = []\n",
    "for cfg, tape in zip(cfgs, tapes):\n",
    "    blocks, loss_grad, c_grad = get_first_crossing_times_(tape.loss, tape.c_gt1, tape.c1, cfg)  # (seeds, blocks n)\n",
    "    \n",
    "    loss_grads.append(np.mean(loss_grad, axis=1).squeeze())  # average over blocks\n",
    "    c_grads.append(np.mean(c_grad, axis=1).squeeze())\n",
    "\n",
    "c_grads = np.array(c_grads)\n",
    "\n",
    "SVs_ = [np.linalg.svd(tape.W1[0, -3:, 0], compute_uv=False) for tape in tapes]\n",
    "trc = [np.einsum('tij,tij->t', tape.W1[0, -3:, 0], tape.W1[0, -3:, 0]).mean() for tape in tapes]\n",
    "\n",
    "sum_svs = [np.sum(SVs**2, axis=-1).mean(0) for SVs in SVs_]\n",
    "\n",
    "lr = cfgs[0].c_tau ** -1\n",
    "grad_fn = lambda W: np.einsum('pio,pio', W, W)\n",
    "\n",
    "ax.plot(sum_svs, c_grads * cfgs[0].c_tau, c='C0', marker='o', label='theory')\n",
    "\n",
    "# fit a linear function to c_grad\n",
    "from scipy.optimize import curve_fit\n",
    "\n",
    "def linear(x, a, b):\n",
    "    return a*x + b\n",
    "\n",
    "ax.xaxis.set_minor_locator(MultipleLocator(1)) # tick every integer\n",
    "ax.yaxis.set_minor_locator(MultipleLocator(1))\n",
    "ax.xaxis.set_major_locator(MultipleLocator(5)) # tick every integer\n",
    "ax.yaxis.set_major_locator(MultipleLocator(5))\n",
    "ax.grid(which='minor', axis='both', alpha=0.2)\n",
    "ax.grid(which='major', axis='both')\n",
    "\n",
    "ax.axline((0, 0), slope=1, c='k', ls='--', alpha=0.5)\n",
    "\n",
    "max_xy = np.max([np.max(sum_svs), np.max(c_grads * cfgs[0].c_tau)])\n",
    "ax.dataLim.x1 = max_xy\n",
    "ax.dataLim.y1 = max_xy\n",
    "\n",
    "ax.set_aspect(1)\n",
    "ax.set_xlabel(r\"singular value sum $\\sum_\\alpha^{min(d_{\\text{out}}, d_{\\text{in}})} s_\\alpha^2$\")\n",
    "ax.set_ylabel(r\"gate change $\\tau_c \\frac{dc}{dt}$\")\n",
    "\n",
    "fig"
   ]
  }
 ],
 "metadata": {
  "kernelspec": {
   "display_name": "Python 3 (ipykernel)",
   "language": "python",
   "name": "python3"
  },
  "language_info": {
   "codemirror_mode": {
    "name": "ipython",
    "version": 3
   },
   "file_extension": ".py",
   "mimetype": "text/x-python",
   "name": "python",
   "nbconvert_exporter": "python",
   "pygments_lexer": "ipython3",
   "version": "3.13.2"
  }
 },
 "nbformat": 4,
 "nbformat_minor": 4
}
