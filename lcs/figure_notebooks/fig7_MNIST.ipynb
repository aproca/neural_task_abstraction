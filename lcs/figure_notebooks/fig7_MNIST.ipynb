{
 "cells": [
  {
   "cell_type": "code",
   "execution_count": 1,
   "metadata": {},
   "outputs": [],
   "source": [
    "%matplotlib widget"
   ]
  },
  {
   "cell_type": "code",
   "execution_count": 2,
   "metadata": {},
   "outputs": [],
   "source": [
    "import matplotlib.pyplot as plt\n",
    "import sys, os\n",
    "sys.path.append('../..')\n",
    "from lcs.plotting_utils import *\n",
    "from lcs import TEXTWIDTH, PAGEHEIGHT\n",
    "import numpy as np\n",
    "from lcs_mnist.mnist_lcs_src import indicate_contexts\n",
    "from lcs_mnist.mnist_lcs_plotting_utils import read_in_data, indicate_contexts, plot_wcst, plot_specificity\n",
    "from lcs_mnist import mnist_learning_clean\n",
    "from lcs.configs import *\n",
    "from lcs.joint_learning import *\n",
    "import pickle"
   ]
  },
  {
   "cell_type": "code",
   "execution_count": null,
   "metadata": {},
   "outputs": [],
   "source": [
    "# TODO: MAKE THIS EASY TO RUN FROM THIS NOTEBOOK"
   ]
  },
  {
   "cell_type": "code",
   "execution_count": 3,
   "metadata": {},
   "outputs": [],
   "source": [
    "data_timestamp = 20240513175956 #, 20240802131757"
   ]
  },
  {
   "cell_type": "code",
   "execution_count": 4,
   "metadata": {},
   "outputs": [
    {
     "name": "stdout",
     "output_type": "stream",
     "text": [
      "[WARNING] [2025-02-19 20:21:34,026] in lcs.configs: Using a dt > 1e-3 introduces finite-size effects!\n"
     ]
    }
   ],
   "source": [
    "cfg = Config(**{\n",
    "            'input_size': 64,\n",
    "            'output_size': 10,\n",
    "            'num_seeds': 10,\n",
    "            'num_contexts': 2,\n",
    "            'num_paths': 2,\n",
    "            'batch_size': 100,\n",
    "            'W_lr': 0.001,\n",
    "            'c_lr': 2,\n",
    "            'initialization_scale': 0.01,\n",
    "            'num_blocks': 10,\n",
    "            'block_duration': 100,\n",
    "            'regularization_strength': 0.1,\n",
    "            'num_layers': 1,\n",
    "            'hidden_size': 32,\n",
    "            'context_model': True,\n",
    "            'name': 'mnist_cfg',\n",
    "            'regularization_type': ['gating_manifold_L1', 'nonnegative'],\n",
    "            'shared_teachers': False,\n",
    "            'c_gt_curriculum': 'A_B__',\n",
    "            'dt': 0.1,\n",
    "            'T_tape': -1,\n",
    "            'dataset_name': 'mnist',\n",
    "            'data_appendix': '_CNN_bottleneck10',\n",
    "            'permutation1': None,\n",
    "            'permutation2': None,\n",
    "            'data_folder': os.path.join('data', 'mnist'),\n",
    "            'results_folder': os.path.join('results', 'mnist', \"%s_%s\"%(str(None), str(None)))\n",
    "        })"
   ]
  },
  {
   "cell_type": "code",
   "execution_count": 5,
   "metadata": {},
   "outputs": [
    {
     "name": "stdout",
     "output_type": "stream",
     "text": [
      "initializing...\n"
     ]
    },
    {
     "name": "stderr",
     "output_type": "stream",
     "text": [
      "/Users/alex/anaconda3/envs/NTA/lib/python3.13/site-packages/jax/_src/numpy/lax_numpy.py:6944: UserWarning: Explicitly requested dtype float64 requested in asarray is not available, and will be truncated to dtype float32. To enable more dtypes, set the jax_enable_x64 configuration option or the JAX_ENABLE_X64 shell environment variable. See https://github.com/jax-ml/jax#current-gotchas for more.\n",
      "  start = asarray(start, dtype=computation_dtype)\n",
      "/Users/alex/anaconda3/envs/NTA/lib/python3.13/site-packages/jax/_src/numpy/lax_numpy.py:6945: UserWarning: Explicitly requested dtype float64 requested in asarray is not available, and will be truncated to dtype float32. To enable more dtypes, set the jax_enable_x64 configuration option or the JAX_ENABLE_X64 shell environment variable. See https://github.com/jax-ml/jax#current-gotchas for more.\n",
      "  stop = asarray(stop, dtype=computation_dtype)\n",
      "/Users/alex/anaconda3/envs/NTA/lib/python3.13/site-packages/jax/_src/numpy/lax_numpy.py:6954: UserWarning: Explicitly requested dtype float64 requested in array is not available, and will be truncated to dtype float32. To enable more dtypes, set the jax_enable_x64 configuration option or the JAX_ENABLE_X64 shell environment variable. See https://github.com/jax-ml/jax#current-gotchas for more.\n",
      "  delta: Array = lax.convert_element_type(stop - start, computation_dtype) / array(div, dtype=computation_dtype)\n",
      "/Users/alex/anaconda3/envs/NTA/lib/python3.13/site-packages/jax/_src/numpy/lax_numpy.py:6960: UserWarning: Explicitly requested dtype float64 requested in array is not available, and will be truncated to dtype float32. To enable more dtypes, set the jax_enable_x64 configuration option or the JAX_ENABLE_X64 shell environment variable. See https://github.com/jax-ml/jax#current-gotchas for more.\n",
      "  step = reshape(lax.iota(real_dtype, div), iota_shape) / array(div, real_dtype)\n",
      "/Users/alex/anaconda3/envs/NTA/lib/python3.13/site-packages/jax/_src/numpy/array_methods.py:121: UserWarning: Explicitly requested dtype float64 requested in astype is not available, and will be truncated to dtype float32. To enable more dtypes, set the jax_enable_x64 configuration option or the JAX_ENABLE_X64 shell environment variable. See https://github.com/jax-ml/jax#current-gotchas for more.\n",
      "  return lax_numpy.astype(self, dtype, copy=copy, device=device)\n"
     ]
    },
    {
     "ename": "FileNotFoundError",
     "evalue": "[Errno 2] No such file or directory: 'data/mnist/20240513175956_ys_train_CNN_bottleneck10.npy'",
     "output_type": "error",
     "traceback": [
      "\u001b[0;31m---------------------------------------------------------------------------\u001b[0m",
      "\u001b[0;31mFileNotFoundError\u001b[0m                         Traceback (most recent call last)",
      "Cell \u001b[0;32mIn[5], line 1\u001b[0m\n\u001b[0;32m----> 1\u001b[0m \u001b[43mmnist_learning_clean\u001b[49m\u001b[38;5;241;43m.\u001b[39;49m\u001b[43mrun_cfg\u001b[49m\u001b[43m(\u001b[49m\u001b[43mcfg\u001b[49m\u001b[43m,\u001b[49m\u001b[43m \u001b[49m\u001b[43mdata_timestamp\u001b[49m\u001b[43m)\u001b[49m\n",
      "File \u001b[0;32m~/Documents/Research/FlexibleTaskAbstractions/neural_task_abstraction/lcs/figure_notebooks copy/../../lcs_mnist/mnist_learning_clean.py:226\u001b[0m, in \u001b[0;36mrun_cfg\u001b[0;34m(cfg, data_timestamp)\u001b[0m\n\u001b[1;32m    223\u001b[0m timestamp \u001b[38;5;241m=\u001b[39m get_timestamp()\n\u001b[1;32m    225\u001b[0m \u001b[38;5;66;03m## LOAD IN HIDDEN LAYER MNIST DATASET\u001b[39;00m\n\u001b[0;32m--> 226\u001b[0m trainlabels1 \u001b[38;5;241m=\u001b[39m \u001b[43mnp\u001b[49m\u001b[38;5;241;43m.\u001b[39;49m\u001b[43mload\u001b[49m\u001b[43m(\u001b[49m\u001b[43mos\u001b[49m\u001b[38;5;241;43m.\u001b[39;49m\u001b[43mpath\u001b[49m\u001b[38;5;241;43m.\u001b[39;49m\u001b[43mjoin\u001b[49m\u001b[43m(\u001b[49m\u001b[43mcfg\u001b[49m\u001b[38;5;241;43m.\u001b[39;49m\u001b[43mdata_folder\u001b[49m\u001b[43m,\u001b[49m\u001b[43m \u001b[49m\u001b[38;5;124;43m'\u001b[39;49m\u001b[38;5;132;43;01m%s\u001b[39;49;00m\u001b[38;5;124;43m_ys_train\u001b[39;49m\u001b[38;5;132;43;01m%s\u001b[39;49;00m\u001b[38;5;124;43m.npy\u001b[39;49m\u001b[38;5;124;43m'\u001b[39;49m\u001b[43m \u001b[49m\u001b[38;5;241;43m%\u001b[39;49m\u001b[43m \u001b[49m\u001b[43m(\u001b[49m\u001b[43mdata_timestamp\u001b[49m\u001b[43m,\u001b[49m\u001b[43m \u001b[49m\u001b[43mcfg\u001b[49m\u001b[38;5;241;43m.\u001b[39;49m\u001b[43mdata_appendix\u001b[49m\u001b[43m)\u001b[49m\u001b[43m)\u001b[49m\u001b[43m)\u001b[49m\n\u001b[1;32m    227\u001b[0m trainhiddens \u001b[38;5;241m=\u001b[39m jnp\u001b[38;5;241m.\u001b[39marray(np\u001b[38;5;241m.\u001b[39mload(os\u001b[38;5;241m.\u001b[39mpath\u001b[38;5;241m.\u001b[39mjoin(cfg\u001b[38;5;241m.\u001b[39mdata_folder, \u001b[38;5;124m'\u001b[39m\u001b[38;5;132;01m%s\u001b[39;00m\u001b[38;5;124m_hiddens_train\u001b[39m\u001b[38;5;132;01m%s\u001b[39;00m\u001b[38;5;124m.npy\u001b[39m\u001b[38;5;124m'\u001b[39m \u001b[38;5;241m%\u001b[39m  (data_timestamp, cfg\u001b[38;5;241m.\u001b[39mdata_appendix))))\n\u001b[1;32m    228\u001b[0m hiddens \u001b[38;5;241m=\u001b[39m jnp\u001b[38;5;241m.\u001b[39marray(np\u001b[38;5;241m.\u001b[39mload(os\u001b[38;5;241m.\u001b[39mpath\u001b[38;5;241m.\u001b[39mjoin(cfg\u001b[38;5;241m.\u001b[39mdata_folder, \u001b[38;5;124m'\u001b[39m\u001b[38;5;132;01m%s\u001b[39;00m\u001b[38;5;124m_hiddens\u001b[39m\u001b[38;5;132;01m%s\u001b[39;00m\u001b[38;5;124m.npy\u001b[39m\u001b[38;5;124m'\u001b[39m \u001b[38;5;241m%\u001b[39m (data_timestamp, cfg\u001b[38;5;241m.\u001b[39mdata_appendix))))\n",
      "File \u001b[0;32m~/anaconda3/envs/NTA/lib/python3.13/site-packages/numpy/lib/_npyio_impl.py:451\u001b[0m, in \u001b[0;36mload\u001b[0;34m(file, mmap_mode, allow_pickle, fix_imports, encoding, max_header_size)\u001b[0m\n\u001b[1;32m    449\u001b[0m     own_fid \u001b[38;5;241m=\u001b[39m \u001b[38;5;28;01mFalse\u001b[39;00m\n\u001b[1;32m    450\u001b[0m \u001b[38;5;28;01melse\u001b[39;00m:\n\u001b[0;32m--> 451\u001b[0m     fid \u001b[38;5;241m=\u001b[39m stack\u001b[38;5;241m.\u001b[39menter_context(\u001b[38;5;28;43mopen\u001b[39;49m\u001b[43m(\u001b[49m\u001b[43mos\u001b[49m\u001b[38;5;241;43m.\u001b[39;49m\u001b[43mfspath\u001b[49m\u001b[43m(\u001b[49m\u001b[43mfile\u001b[49m\u001b[43m)\u001b[49m\u001b[43m,\u001b[49m\u001b[43m \u001b[49m\u001b[38;5;124;43m\"\u001b[39;49m\u001b[38;5;124;43mrb\u001b[39;49m\u001b[38;5;124;43m\"\u001b[39;49m\u001b[43m)\u001b[49m)\n\u001b[1;32m    452\u001b[0m     own_fid \u001b[38;5;241m=\u001b[39m \u001b[38;5;28;01mTrue\u001b[39;00m\n\u001b[1;32m    454\u001b[0m \u001b[38;5;66;03m# Code to distinguish from NumPy binary files and pickles.\u001b[39;00m\n",
      "\u001b[0;31mFileNotFoundError\u001b[0m: [Errno 2] No such file or directory: 'data/mnist/20240513175956_ys_train_CNN_bottleneck10.npy'"
     ]
    }
   ],
   "source": [
    "mnist_learning_clean.run_cfg(cfg, data_timestamp)"
   ]
  },
  {
   "cell_type": "code",
   "execution_count": null,
   "metadata": {},
   "outputs": [],
   "source": [
    "forget_cfg = Config(**{\n",
    "            'input_size': 64,\n",
    "            'output_size': 10,\n",
    "            'num_seeds': 10,\n",
    "            'num_contexts': 2,\n",
    "            'num_paths': 2,\n",
    "            'batch_size': 100,\n",
    "            'W_lr': 0.001,\n",
    "            'c_lr': 0.001,\n",
    "            'initialization_scale': 0.01,\n",
    "            'num_blocks': 10,\n",
    "            'block_duration': 100,\n",
    "            'regularization_strength': np.finfo(float).eps,\n",
    "            'num_layers': 1,\n",
    "            'hidden_size': 32,\n",
    "            'context_model': True,\n",
    "            'name': 'mnist_cfg',\n",
    "            'regularization_type': ['gating_manifold_L1', 'nonnegative'],\n",
    "            'shared_teachers': False,\n",
    "            'c_gt_curriculum': 'A_B__',\n",
    "            'dt': 0.1,\n",
    "            'T_tape': -1,\n",
    "            'dataset_name': 'mnist',\n",
    "            'data_appendix': '_CNN_bottleneck10',\n",
    "            'permutation1': None,\n",
    "            'permutation2': None,\n",
    "            'data_folder': os.path.join('data', 'mnist'),\n",
    "            'results_folder': os.path.join('results', 'mnist', \"%s_%s\"%(str(None), str(None)))\n",
    "        })"
   ]
  },
  {
   "cell_type": "code",
   "execution_count": 3,
   "metadata": {},
   "outputs": [],
   "source": [
    "init_plot_settings()\n",
    "s = 2\n",
    "fig = plt.figure(figsize=(s*TEXTWIDTH, s*PAGEHEIGHT*0.125), layout='constrained')\n",
    "\n",
    "mosaic = \"\"\"\n",
    "ab\n",
    "\"\"\"\n",
    "\n",
    "axd = fig.subplot_mosaic(mosaic)\n",
    "\n",
    "ax_acc = axd['a']\n",
    "ax_c = axd['b']"
   ]
  },
  {
   "cell_type": "code",
   "execution_count": 4,
   "metadata": {},
   "outputs": [
    {
     "ename": "FileNotFoundError",
     "evalue": "[Errno 2] No such file or directory: '../results/mnist/None_upper_lower/20241017133547_run_info.pkl'",
     "output_type": "error",
     "traceback": [
      "\u001b[0;31m---------------------------------------------------------------------------\u001b[0m",
      "\u001b[0;31mFileNotFoundError\u001b[0m                         Traceback (most recent call last)",
      "Cell \u001b[0;32mIn[4], line 25\u001b[0m\n\u001b[1;32m     21\u001b[0m ts, losses, cs, norm_W1s, accs, contexts, cfgs \u001b[38;5;241m=\u001b[39m [], [], [], [], [], [], []\n\u001b[1;32m     23\u001b[0m \u001b[38;5;28;01mfor\u001b[39;00m run_timestamp, label \u001b[38;5;129;01min\u001b[39;00m \u001b[38;5;28mzip\u001b[39m(run_timestamps, labels):\n\u001b[0;32m---> 25\u001b[0m     t, loss, c, norm_W1, acc, context, cfg \u001b[38;5;241m=\u001b[39m \u001b[43mread_in_data\u001b[49m\u001b[43m(\u001b[49m\u001b[43mrun_timestamp\u001b[49m\u001b[43m,\u001b[49m\u001b[43m \u001b[49m\u001b[43mresults_folder\u001b[49m\u001b[43m \u001b[49m\u001b[38;5;241;43m=\u001b[39;49m\u001b[43m \u001b[49m\u001b[43mresults_folder\u001b[49m\u001b[43m,\u001b[49m\u001b[43m \u001b[49m\u001b[43mlabel\u001b[49m\u001b[38;5;241;43m=\u001b[39;49m\u001b[38;5;28;43;01mNone\u001b[39;49;00m\u001b[43m)\u001b[49m\n\u001b[1;32m     26\u001b[0m     ts\u001b[38;5;241m.\u001b[39mappend(t)\n\u001b[1;32m     27\u001b[0m     losses\u001b[38;5;241m.\u001b[39mappend(loss)\n",
      "File \u001b[0;32m~/Documents/Research/FlexibleTaskAbstractions/neural_task_abstraction/lcs/figure_notebooks copy/../../lcs_mnist/mnist_lcs_plotting_utils.py:19\u001b[0m, in \u001b[0;36mread_in_data\u001b[0;34m(run_timestamp, results_folder, label)\u001b[0m\n\u001b[1;32m     16\u001b[0m \u001b[38;5;28;01melse\u001b[39;00m:\n\u001b[1;32m     17\u001b[0m     modifier \u001b[38;5;241m=\u001b[39m \u001b[38;5;124m'\u001b[39m\u001b[38;5;124m'\u001b[39m\n\u001b[0;32m---> 19\u001b[0m \u001b[38;5;28;01mwith\u001b[39;00m \u001b[38;5;28;43mopen\u001b[39;49m\u001b[43m(\u001b[49m\u001b[43mos\u001b[49m\u001b[38;5;241;43m.\u001b[39;49m\u001b[43mpath\u001b[49m\u001b[38;5;241;43m.\u001b[39;49m\u001b[43mjoin\u001b[49m\u001b[43m(\u001b[49m\u001b[43mresults_folder\u001b[49m\u001b[43m,\u001b[49m\u001b[43m \u001b[49m\u001b[38;5;124;43mf\u001b[39;49m\u001b[38;5;124;43m'\u001b[39;49m\u001b[38;5;132;43;01m{\u001b[39;49;00m\u001b[43mrun_timestamp\u001b[49m\u001b[38;5;132;43;01m}\u001b[39;49;00m\u001b[38;5;132;43;01m{\u001b[39;49;00m\u001b[43mmodifier\u001b[49m\u001b[38;5;132;43;01m}\u001b[39;49;00m\u001b[38;5;124;43m_run_info.pkl\u001b[39;49m\u001b[38;5;124;43m'\u001b[39;49m\u001b[43m)\u001b[49m\u001b[43m,\u001b[49m\u001b[43m \u001b[49m\u001b[38;5;124;43m'\u001b[39;49m\u001b[38;5;124;43mrb\u001b[39;49m\u001b[38;5;124;43m'\u001b[39;49m\u001b[43m)\u001b[49m \u001b[38;5;28;01mas\u001b[39;00m f:\n\u001b[1;32m     20\u001b[0m     run_info \u001b[38;5;241m=\u001b[39m pickle\u001b[38;5;241m.\u001b[39mload(f)\n\u001b[1;32m     22\u001b[0m     t \u001b[38;5;241m=\u001b[39m run_info[\u001b[38;5;124m'\u001b[39m\u001b[38;5;124mt\u001b[39m\u001b[38;5;124m'\u001b[39m]\n",
      "\u001b[0;31mFileNotFoundError\u001b[0m: [Errno 2] No such file or directory: '../results/mnist/None_upper_lower/20241017133547_run_info.pkl'"
     ]
    }
   ],
   "source": [
    "run_timestamps = ['20241017133547', '20241017125926'] ## L2 Regularization\n",
    "dataset_name = 'mnist'\n",
    "\n",
    "### NEW fMNIST RUNS - WARM COLD, truly shared structure\n",
    "#run_timestamps = ['20241030235955', '20241031000021']\n",
    "#dataset_name = 'fashion_mnist'\n",
    "\n",
    "labels = ['flexible' , 'forgetful']\n",
    "\n",
    "#permutation_names = \"None_warm_cool\"\n",
    "permutation_names = \"None_upper_lower\"\n",
    "#permutation_names = None\n",
    "\n",
    "results_folder = os.path.join('..', 'results', dataset_name)\n",
    "\n",
    "if permutation_names is not None:\n",
    "    results_folder = os.path.join(results_folder, permutation_names)\n",
    "\n",
    "os.makedirs(results_folder, exist_ok=True)\n",
    "\n",
    "ts, losses, cs, norm_W1s, accs, contexts, cfgs = [], [], [], [], [], [], []\n",
    "\n",
    "for run_timestamp, label in zip(run_timestamps, labels):\n",
    "\n",
    "    t, loss, c, norm_W1, acc, context, cfg = read_in_data(run_timestamp, results_folder = results_folder, label=None)\n",
    "    ts.append(t)\n",
    "    losses.append(loss)\n",
    "    cs.append(c)\n",
    "    norm_W1s.append(norm_W1)\n",
    "    accs.append(acc)\n",
    "    contexts.append(context)\n",
    "    cfgs.append(cfg)\n",
    "\n",
    "model_colors = ['black', 'grey']\n",
    "\n",
    "t = ts[0]\n",
    "loss = losses[0]\n",
    "c = cs[0]\n",
    "norm_W1 = norm_W1[0]\n",
    "acc = accs[0]\n",
    "context = contexts[0]\n",
    "cfg = cfgs[0]\n",
    "\n",
    "accs = np.array(accs)\n",
    "ts = np.array(ts)\n",
    "c = np.array(c)"
   ]
  },
  {
   "cell_type": "code",
   "execution_count": null,
   "metadata": {},
   "outputs": [],
   "source": [
    "ax = ax_acc\n",
    "\n",
    "for i in range(len(ts)):\n",
    "    means = np.mean(accs[i], axis=0)\n",
    "    stderrs = np.std(accs[i], axis=0) / np.sqrt(len(accs[i]))\n",
    "\n",
    "    #fill_between(ax, ts[i], accs[i], label=labels[i], c=model_colors[i]) \n",
    "    ax.plot(ts[i, 0], means, label=labels[i], c=model_colors[i])\n",
    "    ax.fill_between(ts[i, 0], means - stderrs, means + stderrs, alpha=0.3, color=model_colors[i])\n",
    "\n",
    "ax.dataLim.y0 = 0\n",
    "ax.dataLim.y1 = 1\n",
    "\n",
    "ax.set_ylabel('accuracy')\n",
    "ax.set_xlabel('time $t$')\n",
    "ax.autoscale_view()\n",
    "ax.set_xlim((min(ts[0,0]), max(ts[0,0])))\n",
    "\n",
    "ax.legend()\n",
    "\n",
    "indicate_contexts(ax, t, cfg)"
   ]
  },
  {
   "cell_type": "code",
   "execution_count": null,
   "metadata": {},
   "outputs": [],
   "source": [
    "ax = ax_c\n",
    "\n",
    "sorted_gates = []\n",
    "\n",
    "for i in range(len(c)):\n",
    "    current_gates = c[i]\n",
    "    \n",
    "    ## sort based on final 100 timesteps\n",
    "    sort_idx = np.argsort(np.mean(current_gates[-100:], axis=0))\n",
    "    sorted_gates.append(current_gates[:, sort_idx])\n",
    "    \n",
    "means = np.mean(sorted_gates, axis=0)\n",
    "stderrs = np.std(sorted_gates, axis=0) / np.sqrt(len(current_gates))\n",
    "\n",
    "for p in range(cfg.num_paths):\n",
    "    ax.plot(t[0], means[..., p], label=f'c{p+1}', c=f'C{p}')\n",
    "    ax.fill_between(t[0], means[..., p] - stderrs[..., p], means[..., p] + stderrs[..., p], alpha=0.3, color=f'C{p}')\n",
    "\n",
    "c_min = np.min(c)\n",
    "c_max = np.max(c)\n",
    "ax.dataLim.y0 = c_min - limpad\n",
    "ax.dataLim.y1 = c_max + limpad\n",
    "ax.set_yticks([0, .5, 1, 1.5, 2, 2.5])\n",
    "ax.autoscale_view()\n",
    "ax.set_xlim((min(ts[0,0]), max(ts[0,0])))\n",
    "\n",
    "#ax.legend()\n",
    "\n",
    "ax.set_xlabel(r'time $t$')\n",
    "ax.set_ylabel(r'gates $c^p$')\n",
    "\n",
    "indicate_contexts(ax, t, cfg)\n",
    "\n",
    "fig"
   ]
  }
 ],
 "metadata": {
  "kernelspec": {
   "display_name": "Python 3 (ipykernel)",
   "language": "python",
   "name": "python3"
  },
  "language_info": {
   "codemirror_mode": {
    "name": "ipython",
    "version": 3
   },
   "file_extension": ".py",
   "mimetype": "text/x-python",
   "name": "python",
   "nbconvert_exporter": "python",
   "pygments_lexer": "ipython3",
   "version": "3.13.2"
  }
 },
 "nbformat": 4,
 "nbformat_minor": 4
}
