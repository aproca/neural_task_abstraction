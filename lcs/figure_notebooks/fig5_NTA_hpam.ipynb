{
 "cells": [
  {
   "cell_type": "code",
   "execution_count": null,
   "id": "c3585997-9e9c-4b12-92cf-872bbcbdb749",
   "metadata": {},
   "outputs": [],
   "source": [
    "%matplotlib widget"
   ]
  },
  {
   "cell_type": "code",
   "execution_count": 1,
   "id": "a70bf50f-9aaa-4109-a9b5-21dfa3518e2b",
   "metadata": {},
   "outputs": [],
   "source": [
    "import sys\n",
    "sys.path.append('../..')\n",
    "from lcs import SRC_ROOT\n",
    "import json\n",
    "from pathlib import Path\n",
    "import matplotlib.pyplot as plt\n",
    "import numpy as np\n",
    "import copy\n",
    "from lcs.configs import Config\n",
    "from run_script import get_data\n",
    "import matplotlib.cm as cm\n",
    "from matplotlib.colors import Normalize\n",
    "from lcs import TEXTWIDTH, PAGEHEIGHT\n",
    "from lcs.plotting_utils import *"
   ]
  },
  {
   "cell_type": "code",
   "execution_count": 41,
   "id": "910a0f3d-98a1-4cae-9d76-d15026c5a3c0",
   "metadata": {},
   "outputs": [],
   "source": [
    "shared_cfg = Config(input_size=20,\n",
    "       output_size=10,\n",
    "       num_seeds=10, #1,\n",
    "       num_contexts=2,\n",
    "       num_paths=2,\n",
    "       batch_size=200,\n",
    "       initialization_scale=0.01,\n",
    "       regularization_strength=0.3, \n",
    "       num_layers=1,\n",
    "       hidden_size=10,\n",
    "       context_model=True,\n",
    "       name='',\n",
    "       regularization_type=[('nonnegative', 1),\n",
    "                            ('gating_manifold_L1', 5)],\n",
    "       shared_teachers=False,\n",
    "       shared_concat_teachers=False,\n",
    "       c_gt_curriculum='A_B__',\n",
    "       Y_tgt=None,\n",
    "       W_teachers='generate',\n",
    "       use_X=True,\n",
    "       metric='cosine',\n",
    "       teacher_mode='orthogonal',\n",
    "       num_blocks=7,\n",
    "       t_tot=7,\n",
    "       T_tot=1000,\n",
    "       block_duration=1.0,\n",
    "       W_lr=None,\n",
    "       W1_lr=None,\n",
    "       W2_lr=None,\n",
    "       c_lr=None,\n",
    "       W_tau=0.1,\n",
    "       W1_tau=None,\n",
    "       W2_tau=None,\n",
    "       c_tau=0.03,\n",
    "       dt=0.001,\n",
    "       log_every=1,\n",
    "       T_tape=1000,\n",
    "       dt_tape=0.001,\n",
    "       control='',\n",
    "       data_out_dir='data_internal/NTA_search/block_ctau_search/',\n",
    "       results_out_dir='results_internal/NTA_search/block_ctau_search/',\n",
    "       num_shared_contexts=0,\n",
    "       mixing_factor=0.5,\n",
    "       W_regularization_strength=0.0,\n",
    "       turn_off_regularization=False,\n",
    "       log_aux=True,\n",
    "        )"
   ]
  },
  {
   "cell_type": "code",
   "execution_count": 43,
   "id": "1326a34d-b166-4880-96b8-6ccbaf55d819",
   "metadata": {},
   "outputs": [],
   "source": [
    "block_hpams = [1, 0.8, 0.6, 0.4, 0.1]\n",
    "c_tau_hpams = [0.02, 0.04, 0.06, 0.08, 0.1]"
   ]
  },
  {
   "cell_type": "code",
   "execution_count": 44,
   "id": "bb96acc6-a234-4011-b3a9-5c6ac688991f",
   "metadata": {
    "scrolled": true
   },
   "outputs": [],
   "source": [
    "mean_concat_cossim = np.zeros((len(block_hpams), len(c_tau_hpams)))\n",
    "last_concat_cossim = np.zeros((len(block_hpams), len(c_tau_hpams)))\n",
    "\n",
    "for i in range(len(block_hpams)):\n",
    "    for j in range(len(c_tau_hpams)):\n",
    "        cfg = copy.deepcopy(shared_cfg)\n",
    "        cfg.c_tau = c_tau_hpams[j]\n",
    "        cfg.block_duration = block_hpams[i]\n",
    "        cfg.name = f'block_{cfg.block_duration}_ctau_{cfg.c_tau}'\n",
    "        data_path = Path(cfg.data_out_dir) \n",
    "        tape, cfg = get_data(cfg)\n",
    "        mean_concat_cossim[i,j] = np.mean(tape.concat_cossim)   \n",
    "        last_concat_cossim[i,j] = np.mean(tape.concat_cossim[:,-1])\n",
    "\n",
    "np.save(data_path / 'mean_concat_cossim.npy', mean_concat_cossim)\n",
    "np.save(data_path / 'last_concat_cossim.npy', last_concat_cossim)\n",
    "with open(data_path / 'cfg.json', 'w') as f:\n",
    "    json.dump(shared_cfg.__dict__, f)"
   ]
  },
  {
   "cell_type": "code",
   "execution_count": 45,
   "id": "a3e80387-b5ed-4ad0-b813-78e88f0e0d5c",
   "metadata": {},
   "outputs": [],
   "source": [
    "shared_cfg = Config(input_size=20,\n",
    "       output_size=10,\n",
    "       num_seeds=10, \n",
    "       num_contexts=2,\n",
    "       num_paths=2,\n",
    "       batch_size=200,\n",
    "       initialization_scale=0.01,\n",
    "       regularization_strength=0.3, \n",
    "       num_layers=1,\n",
    "       hidden_size=10,\n",
    "       context_model=True,\n",
    "       name='',\n",
    "       regularization_type=[('nonnegative', 1),\n",
    "                            ('gating_manifold_L1', 5)],\n",
    "       shared_teachers=False,\n",
    "       shared_concat_teachers=False,\n",
    "       c_gt_curriculum='A_B__',\n",
    "       Y_tgt=None,\n",
    "       W_teachers='generate',\n",
    "       use_X=True,\n",
    "       metric='cosine',\n",
    "       teacher_mode='orthogonal',\n",
    "       num_blocks=7,\n",
    "       t_tot=7, \n",
    "       T_tot=1000,\n",
    "       block_duration=1.0,\n",
    "       W_lr=None,\n",
    "       W1_lr=None,\n",
    "       W2_lr=None,\n",
    "       c_lr=None,\n",
    "       W_tau=0.1,\n",
    "       W1_tau=None,\n",
    "       W2_tau=None,\n",
    "       c_tau=0.005,\n",
    "       dt=0.001,\n",
    "       log_every=1,\n",
    "       T_tape=1000,\n",
    "       dt_tape=0.001,\n",
    "       control='',\n",
    "       data_out_dir='data_internal/NTA_search/block_reg_search/',\n",
    "       results_out_dir='results_internal/NTA_search/block_reg_search/',\n",
    "       num_shared_contexts=0,\n",
    "       mixing_factor=0.5,\n",
    "       W_regularization_strength=0.0,\n",
    "       turn_off_regularization=False,\n",
    "       log_aux=True,\n",
    "        )"
   ]
  },
  {
   "cell_type": "code",
   "execution_count": 46,
   "id": "06c85031-5144-4ae9-b284-8738b5673719",
   "metadata": {},
   "outputs": [],
   "source": [
    "block_hpams = [1, 0.8, 0.6, 0.4, 0.1]\n",
    "reg_hpams = [0, 0.05, 0.1, 0.15, 0.2] "
   ]
  },
  {
   "cell_type": "code",
   "execution_count": 47,
   "id": "fbdfc2c2-ce07-438d-98da-7e7fb641dae8",
   "metadata": {
    "scrolled": true
   },
   "outputs": [],
   "source": [
    "mean_concat_cossim = np.zeros((len(block_hpams), len(reg_hpams)))\n",
    "last_concat_cossim = np.zeros((len(block_hpams), len(reg_hpams)))\n",
    "\n",
    "for i in range(len(block_hpams)):\n",
    "    for j in range(len(reg_hpams)):\n",
    "        cfg = copy.deepcopy(shared_cfg)\n",
    "        cfg.regularization_strength = reg_hpams[j]\n",
    "        cfg.block_duration = block_hpams[i]\n",
    "        cfg.name = f'block_{cfg.block_duration}_reg_{cfg.regularization_strength}'\n",
    "        data_path = Path(cfg.data_out_dir) \n",
    "        tape, cfg = get_data(cfg)\n",
    "        mean_concat_cossim[i,j] = np.mean(tape.concat_cossim)  \n",
    "        last_concat_cossim[i,j] = np.mean(tape.concat_cossim[:,-1])\n",
    "\n",
    "np.save(data_path / 'mean_concat_cossim.npy', mean_concat_cossim)\n",
    "np.save(data_path / 'last_concat_cossim.npy', last_concat_cossim)\n",
    "with open(data_path / 'cfg.json', 'w') as f:\n",
    "    json.dump(shared_cfg.__dict__, f)"
   ]
  },
  {
   "cell_type": "code",
   "execution_count": 48,
   "id": "c70b7185-1acb-4421-b43a-a954343b4f9c",
   "metadata": {},
   "outputs": [],
   "source": [
    "# for loading saved hyperparameter search data\n",
    "data_path = Path('data_internal/NTA_search/block_ctau_search/')\n",
    "block_ctau_mean_concat_cossim = np.load(data_path / 'mean_concat_cossim.npy')\n",
    "block_ctau_last_concat_cossim = np.load(data_path / 'last_concat_cossim.npy')\n",
    "\n",
    "data_path = Path('data_internal/NTA_search/block_reg_search/')\n",
    "block_reg_mean_concat_cossim = np.load(data_path / 'mean_concat_cossim.npy')\n",
    "block_reg_last_concat_cossim = np.load(data_path / 'last_concat_cossim.npy')"
   ]
  },
  {
   "cell_type": "code",
   "execution_count": 72,
   "id": "016b6652-11a5-44c2-b582-4f1ef0957883",
   "metadata": {},
   "outputs": [
    {
     "data": {
      "image/png": "[encoded data removed]",
      "text/plain": [
       "<Figure size 536.25x231 with 3 Axes>"
      ]
     },
     "metadata": {},
     "output_type": "display_data"
    }
   ],
   "source": [
    "init_plot_settings()\n",
    "s = 2\n",
    "fig = plt.figure(figsize=(s*TEXTWIDTH*.65*.75, s*PAGEHEIGHT*0.14*.75), layout='constrained')\n",
    "\n",
    "mosaic = \"\"\"\n",
    "abd\n",
    "\"\"\"\n",
    "\n",
    "axd = fig.subplot_mosaic(mosaic, width_ratios=[6,6,0.35])\n",
    "\n",
    "for ax in axd.values():\n",
    "    ax.spines['right'].set_visible(False)\n",
    "    ax.spines['top'].set_visible(False)\n",
    "\n",
    "ax_blocklength_clr = axd['a']\n",
    "ax_blocklength_reg = axd['b']"
   ]
  },
  {
   "cell_type": "code",
   "execution_count": 73,
   "id": "da21888f-e927-4690-a976-f9141079b821",
   "metadata": {},
   "outputs": [
    {
     "name": "stdout",
     "output_type": "stream",
     "text": [
      "[[0.99975491 0.99437916 0.99275953 0.91705477 0.91932148]\n",
      " [0.99865735 0.99675608 0.98702192 0.91872042 0.7426151 ]\n",
      " [0.99879771 0.98455423 0.91972411 0.62472725 0.64230889]\n",
      " [0.99389976 0.59504527 0.63971609 0.66427726 0.68363488]\n",
      " [0.69539779 0.70235914 0.70554042 0.70606893 0.70601767]]\n",
      "[[0.54631513 0.41560706 0.99994737 0.99995947 0.9999364 ]\n",
      " [0.50025046 0.69778872 0.99997872 0.99995184 0.99992877]\n",
      " [0.50378048 0.99998313 0.99998283 0.999955   0.99992877]\n",
      " [0.56913781 0.90791398 0.99661654 0.99511498 0.98763603]\n",
      " [0.66197592 0.68552613 0.62254137 0.63745099 0.6421265 ]]\n"
     ]
    }
   ],
   "source": [
    "print(block_ctau_last_concat_cossim)\n",
    "print(block_reg_last_concat_cossim)"
   ]
  },
  {
   "cell_type": "code",
   "execution_count": 82,
   "id": "ce69aa97-7717-4878-a66c-912bcdbaa045",
   "metadata": {},
   "outputs": [
    {
     "data": {
      "image/png": "[encoded data removed]",
      "text/plain": [
       "<Figure size 536.25x231 with 3 Axes>"
      ]
     },
     "execution_count": 82,
     "metadata": {},
     "output_type": "execute_result"
    }
   ],
   "source": [
    "vmin = 0.7 \n",
    "vmax = 1 \n",
    "\n",
    "cmap = matplotlib.colormaps['Oranges']\n",
    "normalizer = Normalize(vmin, vmax)\n",
    "im = cm.ScalarMappable(cmap=cmap, norm=normalizer)\n",
    "\n",
    "ax = ax_blocklength_clr\n",
    "im1 = ax.imshow(np.fliplr(block_ctau_last_concat_cossim), cmap=cmap, vmin=vmin, vmax=vmax)\n",
    "ax.set_xlabel(r'gate learning rate $\\tau_W/\\tau_c$')\n",
    "ax.set_ylabel(r'block length $\\tau_B/\\tau_W$')\n",
    "default_x_ticks = range(len(c_tau_hpams))\n",
    "default_y_ticks = range(len(block_hpams))\n",
    "ax.set_yticks(default_y_ticks, [10, 8, 6, 4, 1])\n",
    "ax.set_xticks(default_x_ticks, [1, 1.25, 1.66, 2.5, 5])\n",
    "\n",
    "ax = ax_blocklength_reg\n",
    "im2 = ax.imshow(block_reg_last_concat_cossim, cmap=cmap, vmin=vmin, vmax=vmax) \n",
    "ax.set_xlabel(r'regularization strength $\\lambda$')\n",
    "ax.set_ylabel(r'block length $\\tau_B/\\tau_W$')\n",
    "default_x_ticks = range(len(reg_hpams))\n",
    "default_y_ticks = range(len(block_hpams))\n",
    "ax.set_yticks(default_y_ticks, [10, 8, 6, 4, 1])\n",
    "ax.set_xticks(default_x_ticks, reg_hpams)\n",
    "\n",
    "fig.colorbar(im, cax=axd['d'], cmap=cmap, label='total alignment ' + r'$\\langle \\boldsymbol{W}^{\\star} \\boldsymbol{W}^{T}\\rangle$', ticks=[0.7, 1]) \n",
    "fig"
   ]
  },
  {
   "cell_type": "code",
   "execution_count": 80,
   "id": "e8ee6075-e7eb-4135-b702-708e2932ff43",
   "metadata": {},
   "outputs": [
    {
     "data": {
      "image/png": "[encoded data removed]",
      "text/plain": [
       "<Figure size 536.25x231 with 3 Axes>"
      ]
     },
     "execution_count": 80,
     "metadata": {},
     "output_type": "execute_result"
    }
   ],
   "source": [
    "fig"
   ]
  }
 ],
 "metadata": {
  "kernelspec": {
   "display_name": "Python 3 (ipykernel)",
   "language": "python",
   "name": "python3"
  },
  "language_info": {
   "codemirror_mode": {
    "name": "ipython",
    "version": 3
   },
   "file_extension": ".py",
   "mimetype": "text/x-python",
   "name": "python",
   "nbconvert_exporter": "python",
   "pygments_lexer": "ipython3",
   "version": "3.13.2"
  }
 },
 "nbformat": 4,
 "nbformat_minor": 5
}
